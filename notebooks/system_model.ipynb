{
 "cells": [
  {
   "cell_type": "code",
   "execution_count": null,
   "id": "33310470",
   "metadata": {},
   "outputs": [],
   "source": [
    "import numpy as np\n",
    "\n",
    "def compute_capacity(C_max, L_max, L_i, theta_i, theta_max):\n",
    "    \"\"\"Computes computational capacity of node i.\"\"\"\n",
    "    return C_max * np.exp(-L_i / L_max) * np.cos((np.pi / 2) * (theta_i / theta_max))\n",
    "\n",
    "def task_processing_time(S_task, C_i, B_max):\n",
    "    \"\"\"Computes task processing time based on system model.\"\"\"\n",
    "    return (S_task / C_i) + np.log2(1 + (S_task / B_max))\n",
    "\n",
    "def offloading_probability(tau_proc, tau_trans):\n",
    "    \"\"\"Computes probability of offloading a task.\"\"\"\n",
    "    return 1 / (1 + np.exp(-((tau_proc - tau_trans) / (tau_proc + tau_trans))))\n",
    "\n",
    "def transmission_time(S_task, B_ij, theta_ij, T):\n",
    "    \"\"\"Computes transmission time between nodes.\"\"\"\n",
    "    return (S_task / B_ij) * np.mean(1 / (1 + theta_ij))\n",
    "\n",
    "def total_task_completion_time(tau_proc, tau_trans, T_peak, S_task, B_ij):\n",
    "    \"\"\"Computes total task completion time including peak congestion effects.\"\"\"\n",
    "    return tau_proc + tau_trans + np.sin((np.pi * T_peak) / T_peak) * np.log(1 + (S_task / B_ij))\n",
    "\n",
    "def bandwidth_allocation(B_max, d_ij, D_max, theta_ij, T_cycle, t):\n",
    "    \"\"\"Computes available bandwidth based on distance, interference, and congestion.\"\"\"\n",
    "    return B_max * np.exp(-(d_ij / D_max)**2) / (1 + np.sin((np.pi * t) / T_cycle)) / (1 + theta_ij)\n",
    "\n",
    "def network_latency(d_ij, c, S_task, B_ij, theta_ij, T):\n",
    "    \"\"\"Computes total network latency.\"\"\"\n",
    "    L_prop = d_ij / c\n",
    "    L_trans = S_task / B_ij\n",
    "    L_interf = np.mean(theta_ij / B_ij)\n",
    "    return L_prop + L_trans + L_interf\n",
    "\n",
    "def routing_weight(L_i, L_max):\n",
    "    \"\"\"Computes the weight assigned to a node in a load-balanced routing scheme.\"\"\"\n",
    "    return 1 / (1 + L_i / L_max)\n",
    "\n",
    "# Example Usage\n",
    "if __name__ == \"__main__\":\n",
    "    # Example node properties\n",
    "    C_max = 40  # GHz\n",
    "    L_max = 100  # Max load\n",
    "    L_i = 50  # Current load\n",
    "    theta_i = 0.3  # Interference level\n",
    "    theta_max = 1.0  # Max interference\n",
    "    \n",
    "    C_i = compute_capacity(C_max, L_max, L_i, theta_i, theta_max)\n",
    "    print(f\"Computed Capacity: {C_i:.2f} GHz\")\n"
   ]
  }
 ],
 "metadata": {
  "kernelspec": {
   "display_name": "Python 3 (ipykernel)",
   "language": "python",
   "name": "python3"
  },
  "language_info": {
   "codemirror_mode": {
    "name": "ipython",
    "version": 3
   },
   "file_extension": ".py",
   "mimetype": "text/x-python",
   "name": "python",
   "nbconvert_exporter": "python",
   "pygments_lexer": "ipython3",
   "version": "3.10.9"
  }
 },
 "nbformat": 4,
 "nbformat_minor": 5
}

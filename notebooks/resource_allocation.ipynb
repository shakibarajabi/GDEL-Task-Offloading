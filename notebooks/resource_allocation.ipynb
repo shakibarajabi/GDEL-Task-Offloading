{
 "cells": [
  {
   "cell_type": "code",
   "execution_count": 1,
   "id": "0a199037",
   "metadata": {},
   "outputs": [
    {
     "name": "stdout",
     "output_type": "stream",
     "text": [
      "Resource Allocation:\n",
      " [0.00536722 0.02361388 0.01464928 0.01762345 0.01657824 0.00834099\n",
      " 0.00224704 0.01512413 0.01388259 0.01514525 0.00788349 0.01644445\n",
      " 0.00410515 0.01775487 0.01719277 0.01341916 0.01706354 0.01945597\n",
      " 0.02110542 0.01420716 0.0165027  0.00890744 0.01253159 0.02294263\n",
      " 0.00970252 0.00512992 0.01174106 0.02120799 0.01139165 0.009702\n",
      " 0.01816518 0.02334871 0.01027414 0.01784918 0.02032157 0.01058562\n",
      " 0.01777395 0.01307683 0.01026202 0.00884486 0.00018285 0.00559138\n",
      " 0.00222529 0.01435605 0.00175332 0.00343533 0.02060199 0.00745341\n",
      " 0.01403442 0.01179503]\n",
      "Priority-Based Allocation:\n",
      " [0.01610166 0.07084163 0.04394785 0.05287036 0.04973471 0.02502297\n",
      " 0.00674113 0.04537238 0.04164776 0.04543576 0.02365048 0.04933335\n",
      " 0.01231546 0.05326461 0.0515783  0.04025747 0.05119061 0.05836792\n",
      " 0.06331625 0.04262149 0.04950811 0.02672233 0.03759477 0.0688279\n",
      " 0.02910757 0.01538977 0.03522319 0.06362398 0.03417496 0.029106\n",
      " 0.05449555 0.07004612 0.03082241 0.05354755 0.06096471 0.03175686\n",
      " 0.05332186 0.03923048 0.03078606 0.02653457 0.00054855 0.01677414\n",
      " 0.00667588 0.04306814 0.00525997 0.01030598 0.06180598 0.02236023\n",
      " 0.04210327 0.03538509]\n",
      "Energy-Aware Allocation:\n",
      " [0.00377008 0.0182661  0.00957784 0.01373995 0.01224394 0.00594906\n",
      " 0.00168953 0.01278726 0.00970157 0.00985022 0.006337   0.01145776\n",
      " 0.0031196  0.01368507 0.01097308 0.01036894 0.01496994 0.013606\n",
      " 0.01318794 0.00912958 0.01010958 0.00611077 0.00911201 0.01696557\n",
      " 0.00679937 0.00312276 0.00943581 0.01818308 0.01012729 0.00683707\n",
      " 0.01273113 0.01474177 0.00827911 0.01297775 0.0126216  0.00851116\n",
      " 0.01455956 0.00948373 0.00624107 0.00619264 0.00015569 0.00404288\n",
      " 0.00142325 0.00926228 0.00141667 0.00217823 0.01604379 0.00474461\n",
      " 0.00998426 0.00866611]\n"
     ]
    }
   ],
   "source": [
    "import numpy as np\n",
    "\n",
    "class ResourceAllocation:\n",
    "    def __init__(self, num_nodes, max_capacity, max_load):\n",
    "        self.num_nodes = num_nodes\n",
    "        self.max_capacity = max_capacity  # Max computational capacity (GHz)\n",
    "        self.max_load = max_load  # Max allowable load on nodes\n",
    "\n",
    "        # Initialize node load and computational capacity\n",
    "        self.node_loads = np.random.uniform(0, max_load, num_nodes)\n",
    "        self.node_capacities = np.random.uniform(max_capacity * 0.5, max_capacity, num_nodes)\n",
    "        self.interference_levels = np.random.uniform(0.01, 0.2, num_nodes)  # Normalized interference\n",
    "\n",
    "    def allocate_resources(self):\n",
    "        \"\"\" Allocate computational resources dynamically based on load and interference. \"\"\"\n",
    "        allocation = (self.node_capacities / np.sum(self.node_capacities)) * \\\n",
    "                     (1 / (1 + self.interference_levels)) * \\\n",
    "                     np.cos(np.pi * self.node_loads / (2 * self.max_load))\n",
    "\n",
    "        return allocation\n",
    "\n",
    "    def adjust_for_priority(self, task_priority):\n",
    "        \"\"\" Adjust resource allocation based on task priority (higher priority gets more resources). \"\"\"\n",
    "        base_allocation = self.allocate_resources()\n",
    "        priority_factor = 1 + np.log2(1 + task_priority)\n",
    "        return base_allocation * priority_factor\n",
    "\n",
    "    def energy_aware_allocation(self, power_consumption, max_power):\n",
    "        \"\"\" Allocate resources while considering power consumption constraints. \"\"\"\n",
    "        base_allocation = self.allocate_resources()\n",
    "        energy_factor = np.exp(-power_consumption / max_power)\n",
    "        return base_allocation * energy_factor\n",
    "\n",
    "# Example Usage\n",
    "if __name__ == \"__main__\":\n",
    "    resource_alloc = ResourceAllocation(num_nodes=50, max_capacity=10, max_load=100)\n",
    "    \n",
    "    allocation = resource_alloc.allocate_resources()\n",
    "    priority_allocation = resource_alloc.adjust_for_priority(task_priority=3)\n",
    "    energy_allocation = resource_alloc.energy_aware_allocation(power_consumption=np.random.uniform(1, 5, 50), max_power=10)\n",
    "\n",
    "    print(\"Resource Allocation:\\n\", allocation)\n",
    "    print(\"Priority-Based Allocation:\\n\", priority_allocation)\n",
    "    print(\"Energy-Aware Allocation:\\n\", energy_allocation)\n"
   ]
  },
  {
   "cell_type": "code",
   "execution_count": null,
   "id": "7532d6f9",
   "metadata": {},
   "outputs": [],
   "source": []
  }
 ],
 "metadata": {
  "kernelspec": {
   "display_name": "Python 3 (ipykernel)",
   "language": "python",
   "name": "python3"
  },
  "language_info": {
   "codemirror_mode": {
    "name": "ipython",
    "version": 3
   },
   "file_extension": ".py",
   "mimetype": "text/x-python",
   "name": "python",
   "nbconvert_exporter": "python",
   "pygments_lexer": "ipython3",
   "version": "3.10.9"
  }
 },
 "nbformat": 4,
 "nbformat_minor": 5
}

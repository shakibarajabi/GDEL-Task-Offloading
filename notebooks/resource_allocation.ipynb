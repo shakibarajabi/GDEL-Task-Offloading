{
 "cells": [
  {
   "cell_type": "code",
   "execution_count": null,
   "id": "7532d6f9",
   "metadata": {},
   "outputs": [],
   "source": [
    "import numpy as np\n",
    "\n",
    "class ResourceAllocation:\n",
    "    def __init__(self, num_nodes, max_capacity, max_load):\n",
    "        self.num_nodes = num_nodes\n",
    "        self.max_capacity = max_capacity  # Max computational capacity (GHz)\n",
    "        self.max_load = max_load  # Max allowable load on nodes\n",
    "\n",
    "        # Initialize node load and computational capacity\n",
    "        self.node_loads = np.random.uniform(0, max_load, num_nodes)\n",
    "        self.node_capacities = np.random.uniform(max_capacity * 0.5, max_capacity, num_nodes)\n",
    "        self.interference_levels = np.random.uniform(0.01, 0.2, num_nodes)  # Normalized interference\n",
    "\n",
    "    def allocate_resources(self):\n",
    "        \"\"\" Allocate computational resources dynamically based on load and interference. \"\"\"\n",
    "        allocation = (self.node_capacities / np.sum(self.node_capacities)) * \\\n",
    "                     (1 / (1 + self.interference_levels)) * \\\n",
    "                     np.cos(np.pi * self.node_loads / (2 * self.max_load))\n",
    "\n",
    "        return allocation\n",
    "\n",
    "    def adjust_for_priority(self, task_priority):\n",
    "        \"\"\" Adjust resource allocation based on task priority (higher priority gets more resources). \"\"\"\n",
    "        base_allocation = self.allocate_resources()\n",
    "        priority_factor = 1 + np.log2(1 + task_priority)\n",
    "        return base_allocation * priority_factor\n",
    "\n",
    "    def energy_aware_allocation(self, power_consumption, max_power):\n",
    "        \"\"\" Allocate resources while considering power consumption constraints. \"\"\"\n",
    "        base_allocation = self.allocate_resources()\n",
    "        energy_factor = np.exp(-power_consumption / max_power)\n",
    "        return base_allocation * energy_factor\n",
    "\n",
    "# Example Usage\n",
    "if __name__ == \"__main__\":\n",
    "    resource_alloc = ResourceAllocation(num_nodes=50, max_capacity=10, max_load=100)\n",
    "    \n",
    "    allocation = resource_alloc.allocate_resources()\n",
    "    priority_allocation = resource_alloc.adjust_for_priority(task_priority=3)\n",
    "    energy_allocation = resource_alloc.energy_aware_allocation(power_consumption=np.random.uniform(1, 5, 50), max_power=10)\n",
    "\n",
    "    print(\"Resource Allocation:\\n\", allocation)\n",
    "    print(\"Priority-Based Allocation:\\n\", priority_allocation)\n",
    "    print(\"Energy-Aware Allocation:\\n\", energy_allocation)\n"
   ]
  }
 ],
 "metadata": {
  "kernelspec": {
   "display_name": "Python 3 (ipykernel)",
   "language": "python",
   "name": "python3"
  },
  "language_info": {
   "codemirror_mode": {
    "name": "ipython",
    "version": 3
   },
   "file_extension": ".py",
   "mimetype": "text/x-python",
   "name": "python",
   "nbconvert_exporter": "python",
   "pygments_lexer": "ipython3",
   "version": "3.10.9"
  }
 },
 "nbformat": 4,
 "nbformat_minor": 5
}

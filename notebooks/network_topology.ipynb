{
 "cells": [
  {
   "cell_type": "code",
   "execution_count": null,
   "id": "217a9af4",
   "metadata": {},
   "outputs": [],
   "source": [
    "import numpy as np\n",
    "\n",
    "class NetworkTopology:\n",
    "    def __init__(self, num_nodes, max_bandwidth, max_distance, cycle_time):\n",
    "        self.num_nodes = num_nodes\n",
    "        self.max_bandwidth = max_bandwidth  \n",
    "        self.max_distance = max_distance  \n",
    "        self.cycle_time = cycle_time  \n",
    "\n",
    "        \n",
    "        self.bandwidth_matrix = np.zeros((num_nodes, num_nodes))\n",
    "        self.distance_matrix = np.random.uniform(100, max_distance, (num_nodes, num_nodes))\n",
    "        self.interference_matrix = np.random.uniform(0.01, 0.2, (num_nodes, num_nodes)) \n",
    "\n",
    "    def compute_bandwidth(self, t):\n",
    "        \"\"\" Compute available bandwidth between nodes based on distance, interference, and network congestion. \"\"\"\n",
    "        for i in range(self.num_nodes):\n",
    "            for j in range(self.num_nodes):\n",
    "                if i != j:\n",
    "                    distance_factor = np.exp(-(self.distance_matrix[i, j] / self.max_distance) ** 2)\n",
    "                    congestion_factor = 1 / (1 + np.sin(np.pi * t / self.cycle_time))\n",
    "                    interference_factor = 1 / (1 + self.interference_matrix[i, j])\n",
    "\n",
    "                    self.bandwidth_matrix[i, j] = self.max_bandwidth * distance_factor * congestion_factor * interference_factor\n",
    "        return self.bandwidth_matrix\n",
    "\n",
    "    def compute_latency(self, task_size, t):\n",
    "        \"\"\" Compute network latency including propagation, transmission, and queuing delays. \"\"\"\n",
    "        propagation_delay = self.distance_matrix / 3e8  \n",
    "        transmission_delay = task_size / self.compute_bandwidth(t)  \n",
    "        interference_penalty = np.log(1 + self.interference_matrix)\n",
    "\n",
    "        return propagation_delay + transmission_delay + interference_penalty\n",
    "\n",
    "    def compute_interference(self):\n",
    "        \"\"\" Compute interference based on node density and power levels. \"\"\"\n",
    "        interference_levels = np.sum(self.interference_matrix, axis=1) / self.num_nodes\n",
    "        return interference_levels\n",
    "\n",
    "\n",
    "if __name__ == \"__main__\":\n",
    "    network = NetworkTopology(num_nodes=50, max_bandwidth=100, max_distance=5000, cycle_time=120)\n",
    "    t = 30  # Simulated time step\n",
    "    bandwidth = network.compute_bandwidth(t)\n",
    "    latency = network.compute_latency(task_size=2, t=t)  \n",
    "    interference = network.compute_interference()\n",
    "\n",
    "    print(\"Bandwidth Matrix:\\n\", bandwidth)\n",
    "    print(\"Latency Matrix:\\n\", latency)\n",
    "    print(\"Interference Levels:\\n\", interference)\n"
   ]
  }
 ],
 "metadata": {
  "kernelspec": {
   "display_name": "Python 3 (ipykernel)",
   "language": "python",
   "name": "python3"
  },
  "language_info": {
   "codemirror_mode": {
    "name": "ipython",
    "version": 3
   },
   "file_extension": ".py",
   "mimetype": "text/x-python",
   "name": "python",
   "nbconvert_exporter": "python",
   "pygments_lexer": "ipython3",
   "version": "3.10.9"
  }
 },
 "nbformat": 4,
 "nbformat_minor": 5
}
